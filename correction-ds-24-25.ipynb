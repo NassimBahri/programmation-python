{
 "cells": [
  {
   "cell_type": "markdown",
   "id": "ef5e3bb3-ee1c-4b1b-b819-7527de67a46f",
   "metadata": {},
   "source": [
    "# Correction du DS : Langages de programmation évolués-BI"
   ]
  },
  {
   "cell_type": "markdown",
   "id": "1604830d-18d1-41e6-9d5d-f8b4f539d38b",
   "metadata": {},
   "source": [
    "## Exercice 1\n",
    "Écrire un programme qui demande à l’utilisateur de saisir le nombre d’étudiants dans une classe, puis leurs notes respectives. Le programme doit :\n",
    "1. Calculer et afficher la moyenne des notes.\n",
    "2. Afficher le nombre d’étudiants ayant une note supérieure ou égale à la moyenne.\n",
    "2. Afficher le nombre d’étudiants ayant une note inférieure à la moyenne.\n"
   ]
  },
  {
   "cell_type": "code",
   "execution_count": 2,
   "id": "fcd38b08-5d32-4b36-9c67-5b6aff054fa0",
   "metadata": {},
   "outputs": [
    {
     "name": "stdin",
     "output_type": "stream",
     "text": [
      "Veuillez indiquer le nombre d'étudiants :  4\n",
      "Veuillez indiquer la note de l'étudiant n° 1 :  12\n",
      "Veuillez indiquer la note de l'étudiant n° 2 :  13.5\n",
      "Veuillez indiquer la note de l'étudiant n° 3 :  14.25\n",
      "Veuillez indiquer la note de l'étudiant n° 4 :  10\n"
     ]
    }
   ],
   "source": [
    "# Création et remplissage de la liste d'étudiants\n",
    "nombre_etudiants = int(input(\"Veuillez indiquer le nombre d'étudiants : \"))\n",
    "liste_notes = []\n",
    "for i in range(nombre_etudiants):\n",
    "    note = float(input(f\"Veuillez indiquer la note de l'étudiant n° {i+1} : \"))\n",
    "    liste_notes.append(note)"
   ]
  },
  {
   "cell_type": "code",
   "execution_count": 3,
   "id": "b021bc8f-e32c-424f-89d4-c86bd738ab0f",
   "metadata": {},
   "outputs": [
    {
     "name": "stdout",
     "output_type": "stream",
     "text": [
      "La moyenne des notes est : 12.4375\n"
     ]
    }
   ],
   "source": [
    "# Calcul et affichage de la moyenne des notes\n",
    "somme = 0\n",
    "for note in liste_notes:\n",
    "    somme += note\n",
    "moyenne = somme / nombre_etudiants\n",
    "print(f\"La moyenne des notes est : {moyenne}\")"
   ]
  },
  {
   "cell_type": "code",
   "execution_count": 4,
   "id": "db0b00d9-32ea-4e54-ab6d-4165131e0c32",
   "metadata": {},
   "outputs": [
    {
     "name": "stdout",
     "output_type": "stream",
     "text": [
      "Le nombre d'étudiants ayant une note supérieure ou égale à la moyenne est : 2\n"
     ]
    }
   ],
   "source": [
    "# Affichage du nombre d'étudiants ayant une note supérieure ou égale à la moyenne\n",
    "nombre = 0\n",
    "for note in liste_notes:\n",
    "    if note >= moyenne:\n",
    "        nombre += 1\n",
    "print(f\"Le nombre d'étudiants ayant une note supérieure ou égale à la moyenne est : {nombre}\")"
   ]
  },
  {
   "cell_type": "code",
   "execution_count": 5,
   "id": "80953834-02a3-462c-81b8-62205d7a0856",
   "metadata": {},
   "outputs": [
    {
     "name": "stdout",
     "output_type": "stream",
     "text": [
      "Le nombre d'étudiants ayant une note inférieure à la moyenne est : 2\n"
     ]
    }
   ],
   "source": [
    "# Affichage du nombre d'étudiants ayant une note inférieure à la moyenne\n",
    "nombre = 0\n",
    "for note in liste_notes:\n",
    "    if note < moyenne:\n",
    "        nombre += 1\n",
    "print(f\"Le nombre d'étudiants ayant une note inférieure à la moyenne est : {nombre}\")"
   ]
  },
  {
   "cell_type": "markdown",
   "id": "ec673dc3-e632-42ea-b547-1afd5a6e4ee6",
   "metadata": {},
   "source": [
    "## Exercice 2\n",
    "Écrire un programme pour gérer un inventaire de produits d’une boutique. Le programme doit :\n",
    "1. Demander à l’utilisateur de saisir le nombre de produits à ajouter.\n",
    "2. Pour chaque produit, demander son nom et son prix, puis stocker ces informations sous forme de tuples dans une liste.\n",
    "3. Afficher ensuite la liste des produits et leur prix.\n",
    "4. Afficher le produit le plus cher et le moins cher."
   ]
  },
  {
   "cell_type": "code",
   "execution_count": 6,
   "id": "0addf262-610c-40d8-bdac-75011c2c2c0e",
   "metadata": {},
   "outputs": [
    {
     "name": "stdin",
     "output_type": "stream",
     "text": [
      "Veuillez indiquer le nombre de produits :  5\n"
     ]
    }
   ],
   "source": [
    "# Demande du nombre de produits\n",
    "nombre_produits = int(input(\"Veuillez indiquer le nombre de produits : \"))"
   ]
  },
  {
   "cell_type": "code",
   "execution_count": 7,
   "id": "59575961-57ab-4de3-879b-71698cc2c21f",
   "metadata": {},
   "outputs": [
    {
     "name": "stdin",
     "output_type": "stream",
     "text": [
      "Veuillez indiquer le nom du produit n° 1 :  P1\n",
      "Veuillez indiquer le prix du produit n° 1 :  100\n",
      "Veuillez indiquer le nom du produit n° 2 :  P2\n",
      "Veuillez indiquer le prix du produit n° 2 :  50.6\n",
      "Veuillez indiquer le nom du produit n° 3 :  P3\n",
      "Veuillez indiquer le prix du produit n° 3 :  10\n",
      "Veuillez indiquer le nom du produit n° 4 :  P4\n",
      "Veuillez indiquer le prix du produit n° 4 :  120\n",
      "Veuillez indiquer le nom du produit n° 5 :  P5\n",
      "Veuillez indiquer le prix du produit n° 5 :  320\n"
     ]
    }
   ],
   "source": [
    "# Stocker les informations des produits\n",
    "liste_produits = []\n",
    "for i in range(nombre_produits):\n",
    "    nom = input(f\"Veuillez indiquer le nom du produit n° {i+1} : \")\n",
    "    prix = float(input(f\"Veuillez indiquer le prix du produit n° {i+1} : \"))\n",
    "    info = (nom, prix) # Création du tuple\n",
    "    liste_produits.append(info)"
   ]
  },
  {
   "cell_type": "code",
   "execution_count": 8,
   "id": "bf99853b-3629-42bf-b501-e2dca9b50691",
   "metadata": {},
   "outputs": [
    {
     "name": "stdout",
     "output_type": "stream",
     "text": [
      "Le prix du produit P1 est 100.0 dinars\n",
      "Le prix du produit P2 est 50.6 dinars\n",
      "Le prix du produit P3 est 10.0 dinars\n",
      "Le prix du produit P4 est 120.0 dinars\n",
      "Le prix du produit P5 est 320.0 dinars\n"
     ]
    }
   ],
   "source": [
    "# Afficher les produits\n",
    "for produit in liste_produits:\n",
    "    print(f\"Le prix du produit {produit[0]} est {produit[1]} dinars\")"
   ]
  },
  {
   "cell_type": "code",
   "execution_count": 10,
   "id": "e296cf6a-c127-4208-8631-a4a96ed62b0a",
   "metadata": {},
   "outputs": [
    {
     "name": "stdout",
     "output_type": "stream",
     "text": [
      "Le produit le plus cher est P5\n",
      "Le produit le moin cher est P3\n"
     ]
    }
   ],
   "source": [
    "# Afficher le produit le plus cher et le moins cher\n",
    "index_min = 0 # Stocker les indices\n",
    "index_max = 0\n",
    "for i in range(len(liste_produits)):\n",
    "    produit = liste_produits[i]\n",
    "    # Produit le plus cher\n",
    "    if produit[1] > liste_produits[index_max][1]:\n",
    "        index_max = i\n",
    "    # Produit le moin cher\n",
    "    if produit[1] < liste_produits[index_min][1]:\n",
    "        index_min = i\n",
    "produit_plus_cher = liste_produits[index_max]\n",
    "produit_moin_cher = liste_produits[index_min]\n",
    "print(f\"Le produit le plus cher est {produit_plus_cher[0]}\")\n",
    "print(f\"Le produit le moin cher est {produit_moin_cher[0]}\")"
   ]
  },
  {
   "cell_type": "markdown",
   "id": "081b813c-a072-4a80-a4bc-f78b57534471",
   "metadata": {},
   "source": [
    "## Exercice 3\n",
    "Écrire un programme qui demande à l'utilisateur de saisir une liste de nombres séparés par des espaces. Le programme doit :\n",
    "1. Indiquer si tous les nombres de la liste sont uniques (aucun doublon).\n",
    "2. Afficher la liste des nombres en doublon, s’il y en a."
   ]
  },
  {
   "cell_type": "code",
   "execution_count": 14,
   "id": "42a4525a-fc2a-4c33-a8b6-5e5faa736d4f",
   "metadata": {},
   "outputs": [
    {
     "name": "stdin",
     "output_type": "stream",
     "text": [
      "Veuillez saisir une liste de nombres séparés par des espaces :  10 12 101 12 5 66 5 8 99\n"
     ]
    },
    {
     "name": "stdout",
     "output_type": "stream",
     "text": [
      "['10', '12', '101', '12', '5', '66', '5', '8', '99']\n"
     ]
    }
   ],
   "source": [
    "# Saisir la liste des nombres\n",
    "nombre_str = input(\"Veuillez saisir une liste de nombres séparés par des espaces : \")\n",
    "# Convertir la chaîne en une liste\n",
    "nombres = nombre_str.split(\" \")\n",
    "print(nombres)"
   ]
  },
  {
   "cell_type": "code",
   "execution_count": 15,
   "id": "1a14a66e-b010-45be-8c6d-bed97adfec97",
   "metadata": {},
   "outputs": [
    {
     "name": "stdout",
     "output_type": "stream",
     "text": [
      "Les nombres ne sont pas tous uniques!\n"
     ]
    }
   ],
   "source": [
    "# Vérifier si tous les nombres sont uniques\n",
    "if len(set(nombres)) != len(nombres):\n",
    "    print(\"Les nombres ne sont pas tous uniques!\")\n",
    "else:\n",
    "    print(\"Les nombres sont tous uniques!\")"
   ]
  },
  {
   "cell_type": "code",
   "execution_count": 19,
   "id": "9bd0c3fa-3ca1-4124-8f7a-852f7cf6fb70",
   "metadata": {},
   "outputs": [
    {
     "name": "stdout",
     "output_type": "stream",
     "text": [
      "Nombres en doublon : {'12', '5'}\n"
     ]
    }
   ],
   "source": [
    "# Afficher la liste des nombres en doublon\n",
    "doublon = [] # ou bien set() pour créer un ensemble\n",
    "for n in nombres:\n",
    "    if nombres.count(n) > 1:\n",
    "        doublon.append(n) # ou bien doublon.add(n) si vous travaillez avec un ensemble\n",
    "print(f\"Nombres en doublon : {set(doublon)}\")"
   ]
  }
 ],
 "metadata": {
  "kernelspec": {
   "display_name": "Python 3 (ipykernel)",
   "language": "python",
   "name": "python3"
  },
  "language_info": {
   "codemirror_mode": {
    "name": "ipython",
    "version": 3
   },
   "file_extension": ".py",
   "mimetype": "text/x-python",
   "name": "python",
   "nbconvert_exporter": "python",
   "pygments_lexer": "ipython3",
   "version": "3.10.12"
  }
 },
 "nbformat": 4,
 "nbformat_minor": 5
}
